{
 "cells": [
  {
   "cell_type": "code",
   "execution_count": 5,
   "metadata": {
    "dotnet_interactive": {
     "language": "csharp"
    },
    "polyglot_notebook": {
     "kernelName": "csharp"
    }
   },
   "outputs": [],
   "source": [
    "import gzip\n",
    "import json\n",
    "import re\n",
    "\n",
    "class PropDbReader:\n",
    "    def __init__(self, ids_path, offsets_path, avs_path, attrs_path, vals_path):\n",
    "        with gzip.open(ids_path, 'rb') as ids_file, gzip.open(offsets_path, 'rb') as offsets_file, \\\n",
    "             gzip.open(avs_path, 'rb') as avs_file, gzip.open(attrs_path, 'rb') as attrs_file, \\\n",
    "             gzip.open(vals_path, 'rb') as vals_file:\n",
    "            self.ids = json.load(ids_file)\n",
    "            self.offsets = json.load(offsets_file)\n",
    "            self.avs = json.load(avs_file)\n",
    "            self.attrs = json.load(attrs_file)\n",
    "            self.vals = json.load(vals_file)\n",
    "\n",
    "    def enumerateProperties(self, id):\n",
    "        properties = []\n",
    "        if 0 < id < len(self.offsets):\n",
    "            av_start = 2 * self.offsets[id]\n",
    "            av_end = len(self.avs) if id == len(self.offsets) - 1 else 2 * self.offsets[id + 1]\n",
    "            for i in range(av_start, av_end, 2):\n",
    "                attr_offset = self.avs[i]\n",
    "                val_offset = self.avs[i + 1]\n",
    "                attr_obj = self.attrs[attr_offset]\n",
    "\n",
    "                # Check if attr_obj is a list and has at least two elements\n",
    "                if isinstance(attr_obj, list) and len(attr_obj) >= 2:\n",
    "                    name = attr_obj[0]\n",
    "                    category = attr_obj[1]\n",
    "                else:\n",
    "                    name = \"N/A\"\n",
    "                    category = \"N/A\"\n",
    "\n",
    "                value = self.vals[val_offset]\n",
    "                properties.append(Property(name, category, value))\n",
    "        return properties\n",
    "\n",
    "\n",
    "    def getProperties(self, id):\n",
    "        props = {}\n",
    "        rg = re.compile(r'^__\\w+__$')\n",
    "        for prop in self.enumerateProperties(id):\n",
    "            if prop.category and not rg.match(prop.category):\n",
    "                props[prop.name] = prop.value\n",
    "        return props\n",
    "\n",
    "    def getPropertiesByCategory(self, id):\n",
    "        properties = {}\n",
    "        rg = re.compile(r'^__\\w+__$')\n",
    "        categories = []\n",
    "\n",
    "        props = self.enumerateProperties(id)\n",
    "        for prop in props:\n",
    "            if prop.category:\n",
    "                if not rg.match(prop.category):\n",
    "                    if not any(category in prop.category for category in categories):\n",
    "                        categories.append(prop.category)\n",
    "\n",
    "        for category in categories:\n",
    "            prop_result = [prop for prop in props if prop.category == category]\n",
    "            prop_dictionary = []\n",
    "            for prop in prop_result:\n",
    "                prop_key = prop.name\n",
    "                prop_dictionary.append((prop_key, prop.value))\n",
    "            properties[category] = prop_dictionary\n",
    "\n",
    "        return properties\n",
    "\n",
    "    def getChildren(self, id):\n",
    "        children = []\n",
    "        for prop in self.enumerateProperties(id):\n",
    "            if prop.category == \"__child__\":\n",
    "                children.append(int(prop.value))\n",
    "        return children\n",
    "    def getParent(self, id):\n",
    "        parent = []\n",
    "        for prop in self.enumerateProperties(id):\n",
    "            if prop.category == \"__parent__\":\n",
    "                parent.append(int(prop.value))\n",
    "        return parent\n",
    "    def getInstance(self, id):\n",
    "        instanceOf = []\n",
    "        for prop in self.enumerateProperties(id):\n",
    "            if prop.category == \"__instanceof__\":\n",
    "                instanceOf.append(int(prop.value))\n",
    "        return instanceOf\n",
    "\n",
    "class Property:\n",
    "    def __init__(self, name, category, value):\n",
    "        self.name = name\n",
    "        self.category = category\n",
    "        self.value = value\n"
   ]
  },
  {
   "cell_type": "code",
   "execution_count": 6,
   "metadata": {},
   "outputs": [
    {
     "data": {
      "text/plain": [
       "{'IFC Predefined Type': '',\n",
       " 'Export to IFC As': '',\n",
       " 'Export to IFC': 'By Type',\n",
       " 'IfcGUID': '1Ri6dAvFvEOxun_An4x6RE',\n",
       " 'Level': 'Level 1',\n",
       " 'Elevation from Level': 0,\n",
       " 'Host': 'Level : Level 1',\n",
       " 'Offset from Host': 0,\n",
       " 'Moves With Nearby Elements': 0,\n",
       " 'Phase Created': 'Project Completion',\n",
       " 'Phase Demolished': 'None',\n",
       " 'Armrest Left': 0,\n",
       " 'Armrest Right': 0,\n",
       " 'Image': '',\n",
       " 'Comments': 'This is a chair',\n",
       " 'Mark': '',\n",
       " 'Workset': 'Workset1',\n",
       " 'Edited by': '',\n",
       " 'Type Name': 'Plastic-Seat',\n",
       " 'Room Name': 'Sleep',\n",
       " 'Room Number': 'A001'}"
      ]
     },
     "execution_count": 6,
     "metadata": {},
     "output_type": "execute_result"
    }
   ],
   "source": [
    "# Create a sample data (in byte format) for the PropDbReader constructor\n",
    "object_att = 'svfs/objects_attrs.json.gz'\n",
    "object_val = 'svfs/objects_vals.json.gz'\n",
    "object_avs = 'svfs/objects_avs.json.gz'\n",
    "object_ids = 'svfs/objects_ids.json.gz'\n",
    "objects_offs = 'svfs/objects_offs.json.gz'\n",
    "\n",
    "# Create an instance of PropDbReader with the sample data\n",
    "prop_db = PropDbReader(object_ids, objects_offs, object_avs, object_att, object_val)\n",
    "# Try Get Properties Chair at location idndex is 3528 with InternalId : 5bb069ca-e4fe-4e63-be31-f8ac44e80d30-00046bfe\n",
    "# InternalId = UniqueId of Element, in this case we try with a chair from Revit Model have UniqueId = 5bb069ca-e4fe-4e63-be31-f8ac44e80d30-00046bfe\n",
    "id_index = 3528\n",
    "prop_db.getProperties(id_index)"
   ]
  },
  {
   "cell_type": "code",
   "execution_count": 7,
   "metadata": {},
   "outputs": [
    {
     "data": {
      "text/plain": [
       "{'Type IFC Predefined Type': '',\n",
       " 'Export Type to IFC As': '',\n",
       " 'Export Type to IFC': 'Default',\n",
       " 'Type IfcGUID': '1Ri6dAvFvEOxun_An4x6RO',\n",
       " 'Default Elevation': 0,\n",
       " 'Seat Material': 'Plastic - Black',\n",
       " 'Legs Material': 'Plastic - Black',\n",
       " 'Frame Material': 'Colour - Coated - Black',\n",
       " 'Back Material': 'Plastic - Black',\n",
       " 'Width': 510,\n",
       " 'Weight': '4.1',\n",
       " 'Height': 790,\n",
       " 'Depth': 500,\n",
       " 'URL': 'www.lammhults.se',\n",
       " 'Model': 'PENNE',\n",
       " 'Manufacturer': 'LAMMHULTS',\n",
       " 'Keynote': '46.B',\n",
       " 'Description': '*Please enter mtrl description here for use in mto*',\n",
       " 'Content Author': 'AEC AB',\n",
       " 'Assembly Code': 'E2020',\n",
       " 'Type Image': '',\n",
       " 'Type Comments': '',\n",
       " 'Cost': 0,\n",
       " 'Assembly Description': 'Moveable Furnishings',\n",
       " 'Type Mark': '',\n",
       " 'Workset': 'Family  : Furniture : Seating-LAMMHULTS-PENNE-Chair',\n",
       " 'Edited by': '',\n",
       " 'OmniClass Number': '23.40.20.00',\n",
       " 'OmniClass Title': 'General Furniture and Specialties',\n",
       " 'Code Name': ''}"
      ]
     },
     "execution_count": 7,
     "metadata": {},
     "output_type": "execute_result"
    }
   ],
   "source": [
    "# How to Get Parameter Type of Element\n",
    "typeIndex = prop_db.getInstance(id_index)\n",
    "# the output is [3527] which is the type of element, we will try to get the properties of this type\n",
    "prop_db.getProperties(typeIndex[0])"
   ]
  },
  {
   "cell_type": "code",
   "execution_count": 8,
   "metadata": {},
   "outputs": [
    {
     "data": {
      "text/plain": [
       "{'IFC Parameters': [('IFC Predefined Type', ''),\n",
       "  ('Export to IFC As', ''),\n",
       "  ('Export to IFC', 'By Type'),\n",
       "  ('IfcGUID', '1Ri6dAvFvEOxun_An4x6RE')],\n",
       " 'Constraints': [('Level', 'Level 1'),\n",
       "  ('Elevation from Level', 0),\n",
       "  ('Host', 'Level : Level 1'),\n",
       "  ('Offset from Host', 0),\n",
       "  ('Moves With Nearby Elements', 0)],\n",
       " 'Phasing': [('Phase Created', 'Project Completion'),\n",
       "  ('Phase Demolished', 'None')],\n",
       " 'Construction': [('Armrest Left', 0), ('Armrest Right', 0)],\n",
       " 'Identity Data': [('Image', ''),\n",
       "  ('Comments', 'This is a chair'),\n",
       "  ('Mark', ''),\n",
       "  ('Workset', 'Workset1'),\n",
       "  ('Edited by', ''),\n",
       "  ('Type Name', 'Plastic-Seat')],\n",
       " 'Other': [('Room Name', 'Sleep'), ('Room Number', 'A001')]}"
      ]
     },
     "execution_count": 8,
     "metadata": {},
     "output_type": "execute_result"
    }
   ],
   "source": [
    "# this one include more information of categories of properties\n",
    "prop_db.getPropertiesByCategory(id_index)"
   ]
  }
 ],
 "metadata": {
  "kernelspec": {
   "display_name": "Python 3",
   "language": "python",
   "name": "python3"
  },
  "language_info": {
   "codemirror_mode": {
    "name": "ipython",
    "version": 3
   },
   "file_extension": ".py",
   "mimetype": "text/x-python",
   "name": "python",
   "nbconvert_exporter": "python",
   "pygments_lexer": "ipython3",
   "version": "3.11.4"
  },
  "polyglot_notebook": {
   "kernelInfo": {
    "defaultKernelName": "csharp",
    "items": [
     {
      "aliases": [],
      "name": "csharp"
     }
    ]
   }
  }
 },
 "nbformat": 4,
 "nbformat_minor": 2
}
